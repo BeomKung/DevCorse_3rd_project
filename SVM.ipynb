{
  "cells": [
    {
      "cell_type": "markdown",
      "id": "NBx7yXnHt00l",
      "metadata": {
        "id": "NBx7yXnHt00l"
      },
      "source": [
        "# 프로젝트 배경 및 목적\n",
        "- 프로젝트 목적: 연체에 영향을 미치는 주요 요인을 파악하고, 신용 등급 분류 모델을 통해 어떤 특징 때문에 특정 신용 등급이 할당되었는지 파악하고 해당 분석을 통해 신용 등급을 향상시킬 수 있는 액션 플랜을 제안합니다."
      ]
    },
    {
      "cell_type": "markdown",
      "id": "mp9lHG81uNDy",
      "metadata": {
        "id": "mp9lHG81uNDy"
      },
      "source": [
        "### 1. 신용 등급 분류의 의미와 기준 파악\n",
        "- 문제 정의: 신용 등급을 0, 1, 2로 분류했을 때, 각 등급이 나타내는 구체적인 의미와 기준은 무엇인가? 이러한 분류 기준이 실제 금융 환경에서 어떤 영향을 미치는가?\n",
        "- 해결 방안: 신용 등급을 결정하는 요인들을 분석하고, 각 등급별로 구분되는 특징들을 파악하여, 신용 등급과 금융 건전성 사이의 관계를 설명할 수 있는 모델을 개발합니다.\n",
        "### 2. 연체에 영향을 주는 요인 분석\n",
        "- 문제 정의: 어떤 변수들이 신용 연체에 가장 큰 영향을 주는가? 이러한 요인들을 통제하거나 개선함으로써 연체율을 감소시킬 수 있는 방법은 무엇인가?\n",
        "- 해결 방안: 샤플리 값(Shapley Value)을 활용하여 각 변수의 중요도를 평가하고, 주요 요인들에 대한 대책을 마련합니다.\n"
      ]
    },
    {
      "cell_type": "code",
      "execution_count": 2,
      "id": "707c9907",
      "metadata": {
        "id": "707c9907"
      },
      "outputs": [],
      "source": [
        "import pandas as pd\n",
        "import matplotlib.pyplot as plt\n",
        "import seaborn as sns\n",
        "import numpy as np\n",
        "from sklearn.model_selection import train_test_split\n",
        "from sklearn.preprocessing import LabelEncoder, StandardScaler\n",
        "from sklearn.svm import SVC\n",
        "from sklearn.metrics import classification_report, accuracy_score"
      ]
    },
    {
      "cell_type": "code",
      "execution_count": 3,
      "id": "ycXvYNpqcWTY",
      "metadata": {
        "colab": {
          "base_uri": "https://localhost:8080/"
        },
        "id": "ycXvYNpqcWTY",
        "outputId": "8f0acf53-3ff7-4dc3-ed0d-15f24787bd33"
      },
      "outputs": [
        {
          "output_type": "stream",
          "name": "stdout",
          "text": [
            "Drive already mounted at /content/drive; to attempt to forcibly remount, call drive.mount(\"/content/drive\", force_remount=True).\n"
          ]
        }
      ],
      "source": [
        "from google.colab import drive\n",
        "drive.mount('/content/drive')"
      ]
    },
    {
      "cell_type": "code",
      "execution_count": 4,
      "id": "MBvEPz3HWAmX",
      "metadata": {
        "id": "MBvEPz3HWAmX"
      },
      "outputs": [],
      "source": [
        "train=pd.read_csv('/content/drive/MyDrive/train.csv')\n",
        "test=pd.read_csv('/content/drive/MyDrive/test.csv')"
      ]
    },
    {
      "cell_type": "code",
      "execution_count": 5,
      "id": "095f22d6",
      "metadata": {
        "colab": {
          "base_uri": "https://localhost:8080/"
        },
        "id": "095f22d6",
        "outputId": "ad554681-d817-4e0e-ad6a-dc7f460df3d5"
      },
      "outputs": [
        {
          "output_type": "execute_result",
          "data": {
            "text/plain": [
              "(26457, 20)"
            ]
          },
          "metadata": {},
          "execution_count": 5
        }
      ],
      "source": [
        "train.shape"
      ]
    },
    {
      "cell_type": "code",
      "execution_count": 6,
      "id": "43ed56e7",
      "metadata": {
        "colab": {
          "base_uri": "https://localhost:8080/"
        },
        "id": "43ed56e7",
        "outputId": "bbe3a03c-fbde-490b-8070-a1015188f35c"
      },
      "outputs": [
        {
          "output_type": "execute_result",
          "data": {
            "text/plain": [
              "(10000, 19)"
            ]
          },
          "metadata": {},
          "execution_count": 6
        }
      ],
      "source": [
        "test.shape"
      ]
    },
    {
      "cell_type": "code",
      "execution_count": 7,
      "id": "4d7b5e85",
      "metadata": {
        "colab": {
          "base_uri": "https://localhost:8080/"
        },
        "id": "4d7b5e85",
        "outputId": "5aaba6dd-d606-4477-e061-92fc55dedb12"
      },
      "outputs": [
        {
          "output_type": "stream",
          "name": "stdout",
          "text": [
            "<class 'pandas.core.frame.DataFrame'>\n",
            "RangeIndex: 26457 entries, 0 to 26456\n",
            "Data columns (total 20 columns):\n",
            " #   Column         Non-Null Count  Dtype  \n",
            "---  ------         --------------  -----  \n",
            " 0   index          26457 non-null  int64  \n",
            " 1   gender         26457 non-null  object \n",
            " 2   car            26457 non-null  object \n",
            " 3   reality        26457 non-null  object \n",
            " 4   child_num      26457 non-null  int64  \n",
            " 5   income_total   26457 non-null  float64\n",
            " 6   income_type    26457 non-null  object \n",
            " 7   edu_type       26457 non-null  object \n",
            " 8   family_type    26457 non-null  object \n",
            " 9   house_type     26457 non-null  object \n",
            " 10  DAYS_BIRTH     26457 non-null  int64  \n",
            " 11  DAYS_EMPLOYED  26457 non-null  int64  \n",
            " 12  FLAG_MOBIL     26457 non-null  int64  \n",
            " 13  work_phone     26457 non-null  int64  \n",
            " 14  phone          26457 non-null  int64  \n",
            " 15  email          26457 non-null  int64  \n",
            " 16  occyp_type     18286 non-null  object \n",
            " 17  family_size    26457 non-null  float64\n",
            " 18  begin_month    26457 non-null  float64\n",
            " 19  credit         26457 non-null  float64\n",
            "dtypes: float64(4), int64(8), object(8)\n",
            "memory usage: 4.0+ MB\n"
          ]
        }
      ],
      "source": [
        "train.info()"
      ]
    },
    {
      "cell_type": "code",
      "execution_count": 8,
      "id": "faeb6729",
      "metadata": {
        "colab": {
          "base_uri": "https://localhost:8080/"
        },
        "id": "faeb6729",
        "outputId": "b176bb01-5462-4d6e-fc9a-69057c7a6d6c"
      },
      "outputs": [
        {
          "output_type": "execute_result",
          "data": {
            "text/plain": [
              "index               0\n",
              "gender              0\n",
              "car                 0\n",
              "reality             0\n",
              "child_num           0\n",
              "income_total        0\n",
              "income_type         0\n",
              "edu_type            0\n",
              "family_type         0\n",
              "house_type          0\n",
              "DAYS_BIRTH          0\n",
              "DAYS_EMPLOYED       0\n",
              "FLAG_MOBIL          0\n",
              "work_phone          0\n",
              "phone               0\n",
              "email               0\n",
              "occyp_type       8171\n",
              "family_size         0\n",
              "begin_month         0\n",
              "credit              0\n",
              "dtype: int64"
            ]
          },
          "metadata": {},
          "execution_count": 8
        }
      ],
      "source": [
        "train.isnull().sum()"
      ]
    },
    {
      "cell_type": "code",
      "execution_count": 9,
      "id": "4e61209d",
      "metadata": {
        "id": "4e61209d"
      },
      "outputs": [],
      "source": [
        "train=train.drop('occyp_type', axis=1)\n",
        "test=test.drop('occyp_type', axis=1)"
      ]
    },
    {
      "cell_type": "code",
      "execution_count": 10,
      "id": "e62a83eb",
      "metadata": {
        "colab": {
          "base_uri": "https://localhost:8080/"
        },
        "id": "e62a83eb",
        "outputId": "47105cb7-5466-4efc-bd40-fe932c848640"
      },
      "outputs": [
        {
          "output_type": "execute_result",
          "data": {
            "text/plain": [
              "index            26457\n",
              "gender               2\n",
              "car                  2\n",
              "reality              2\n",
              "child_num            9\n",
              "income_total       249\n",
              "income_type          5\n",
              "edu_type             5\n",
              "family_type          5\n",
              "house_type           6\n",
              "DAYS_BIRTH        6621\n",
              "DAYS_EMPLOYED     3470\n",
              "FLAG_MOBIL           1\n",
              "work_phone           2\n",
              "phone                2\n",
              "email                2\n",
              "family_size         10\n",
              "begin_month         61\n",
              "credit               3\n",
              "dtype: int64"
            ]
          },
          "metadata": {},
          "execution_count": 10
        }
      ],
      "source": [
        "unique_len = train.apply(lambda x : len(x.unique()))\n",
        "\n",
        "unique_len"
      ]
    },
    {
      "cell_type": "code",
      "execution_count": 11,
      "id": "ea500481",
      "metadata": {
        "id": "ea500481"
      },
      "outputs": [],
      "source": [
        "train=train.drop('index', axis=1)\n",
        "test=test.drop('index', axis=1)\n",
        "\n",
        "train=train.drop('FLAG_MOBIL', axis=1)\n",
        "test=test.drop('FLAG_MOBIL', axis=1)"
      ]
    },
    {
      "cell_type": "code",
      "execution_count": 12,
      "id": "50deefb3",
      "metadata": {
        "colab": {
          "base_uri": "https://localhost:8080/"
        },
        "id": "50deefb3",
        "outputId": "5eeb351b-862b-49db-cdfb-b5c2dd1da024"
      },
      "outputs": [
        {
          "output_type": "stream",
          "name": "stdout",
          "text": [
            "gender\n",
            "0    17697\n",
            "1     8760\n",
            "Name: count, dtype: int64\n",
            "car\n",
            "0    16410\n",
            "1    10047\n",
            "Name: count, dtype: int64\n",
            "reality\n",
            "1    17830\n",
            "0     8627\n",
            "Name: count, dtype: int64\n",
            "phone\n",
            "0    18672\n",
            "1     7785\n",
            "Name: count, dtype: int64\n",
            "email\n",
            "0    24042\n",
            "1     2415\n",
            "Name: count, dtype: int64\n",
            "work_phone\n",
            "0    20511\n",
            "1     5946\n",
            "Name: count, dtype: int64\n"
          ]
        }
      ],
      "source": [
        "train['gender'] = train['gender'].replace(['F','M'],[0,1])\n",
        "test['gender'] = test['gender'].replace(['F','M'],[0,1])\n",
        "print(train['gender'].value_counts())\n",
        "\n",
        "train['car'] = train['car'].replace(['N','Y'],[0,1])\n",
        "test['car'] = test['car'].replace(['N','Y'],[0,1])\n",
        "print(train['car'].value_counts())\n",
        "\n",
        "train['reality'] = train['reality'].replace(['N','Y'],[0,1])\n",
        "test['reality'] = test['reality'].replace(['N','Y'],[0,1])\n",
        "print(train['reality'].value_counts())\n",
        "\n",
        "print(train['phone'].value_counts())\n",
        "\n",
        "print(train['email'].value_counts())\n",
        "\n",
        "print(train['work_phone'].value_counts())"
      ]
    },
    {
      "cell_type": "code",
      "execution_count": 13,
      "id": "8a020167",
      "metadata": {
        "colab": {
          "base_uri": "https://localhost:8080/"
        },
        "id": "8a020167",
        "outputId": "014ad19a-b5af-4503-c04b-417238461fe4"
      },
      "outputs": [
        {
          "output_type": "stream",
          "name": "stdout",
          "text": [
            "family_size\n",
            "2.0     14106\n",
            "1.0      5109\n",
            "3.0      4632\n",
            "4.0      2260\n",
            "5.0       291\n",
            "6.0        44\n",
            "7.0         9\n",
            "15.0        3\n",
            "9.0         2\n",
            "20.0        1\n",
            "Name: count, dtype: int64\n"
          ]
        }
      ],
      "source": [
        "train=train.drop('child_num', axis=1)\n",
        "test=test.drop('child_num', axis=1)\n",
        "print(train['family_size'].value_counts())"
      ]
    },
    {
      "cell_type": "code",
      "execution_count": 14,
      "id": "621ce8c7",
      "metadata": {
        "colab": {
          "base_uri": "https://localhost:8080/"
        },
        "id": "621ce8c7",
        "outputId": "20d4146f-3653-48cf-fbc4-d344dfa22a1d"
      },
      "outputs": [
        {
          "output_type": "stream",
          "name": "stdout",
          "text": [
            "0.25    2.0\n",
            "0.50    2.0\n",
            "0.75    3.0\n",
            "Name: family_size, dtype: float64\n"
          ]
        }
      ],
      "source": [
        "quartiles = train['family_size'].quantile([0.25, 0.5, 0.75])\n",
        "print(quartiles)"
      ]
    },
    {
      "cell_type": "code",
      "execution_count": 15,
      "id": "95bd7132",
      "metadata": {
        "colab": {
          "base_uri": "https://localhost:8080/"
        },
        "id": "95bd7132",
        "outputId": "0536b8a6-a902-453c-a357-b0843f16237f"
      },
      "outputs": [
        {
          "output_type": "stream",
          "name": "stdout",
          "text": [
            "family_size\n",
            "2.0    14106\n",
            "1.0     5109\n",
            "3.0     4632\n",
            "4.0     2610\n",
            "Name: count, dtype: int64\n"
          ]
        }
      ],
      "source": [
        "train.loc[train['family_size'] >= 4,'family_size']=4\n",
        "test.loc[test['family_size']>=4, 'family_size']=4\n",
        "print(train['family_size'].value_counts())"
      ]
    },
    {
      "cell_type": "code",
      "execution_count": 16,
      "id": "cfa0bfb9",
      "metadata": {
        "id": "cfa0bfb9"
      },
      "outputs": [],
      "source": [
        "def days_to_year(x):\n",
        "    if x<0:\n",
        "        return (x*(-1))/365\n",
        "    return 0\n",
        "\n",
        "def minus_to_plus(x):\n",
        "    if x<0:\n",
        "        return x*(-1)\n",
        "    return 0"
      ]
    },
    {
      "cell_type": "code",
      "execution_count": 17,
      "id": "4f1adeea",
      "metadata": {
        "id": "4f1adeea"
      },
      "outputs": [],
      "source": [
        "train['DAYS_BIRTH'] = train['DAYS_BIRTH'].apply(days_to_year)\n",
        "train['DAYS_EMPLOYED'] = train['DAYS_EMPLOYED'].apply(days_to_year)\n",
        "train['begin_month'] = train['begin_month'].apply(minus_to_plus)\n",
        "\n",
        "test['DAYS_BIRTH'] = test['DAYS_BIRTH'].apply(days_to_year)\n",
        "test['DAYS_EMPLOYED'] = test['DAYS_EMPLOYED'].apply(days_to_year)\n",
        "test['begin_month'] = test['begin_month'].apply(minus_to_plus)"
      ]
    },
    {
      "cell_type": "code",
      "execution_count": 18,
      "id": "e84efe03",
      "metadata": {
        "id": "e84efe03"
      },
      "outputs": [],
      "source": [
        "#생략 가능\n",
        "\n",
        "train['family_size'] = train['family_size'].astype('int64')\n",
        "test['family_size'] = test['family_size'].astype('int64')\n",
        "\n",
        "train['begin_month'] = train['begin_month'].astype('int64')\n",
        "test['begin_month'] = test['begin_month'].astype('int64')"
      ]
    },
    {
      "cell_type": "markdown",
      "id": "f259ad99",
      "metadata": {
        "id": "f259ad99"
      },
      "source": [
        "# 여기까지 기본 전처리"
      ]
    },
    {
      "cell_type": "markdown",
      "id": "84118363",
      "metadata": {
        "id": "84118363"
      },
      "source": [
        "# 라벨 인코딩일 경우"
      ]
    },
    {
      "cell_type": "code",
      "execution_count": 19,
      "id": "3bd12164",
      "metadata": {
        "id": "3bd12164"
      },
      "outputs": [],
      "source": [
        "from sklearn import preprocessing\n",
        "\n",
        "label_encoder = preprocessing.LabelEncoder()\n",
        "\n",
        "train['income_type'] = label_encoder.fit_transform(train['income_type'])\n",
        "test['income_type'] = label_encoder.transform(test['income_type'])\n",
        "\n",
        "#교육 수준 순서 고려\n",
        "edu_type_mapping = {\n",
        "    'Lower secondary': 0,\n",
        "    'Secondary / secondary special': 1,\n",
        "    'Incomplete higher': 2,\n",
        "    'Higher education': 3,\n",
        "    'Academic degree': 4\n",
        "}\n",
        "train['edu_type'] = train['edu_type'].map(edu_type_mapping)\n",
        "test['edu_type'] = test['edu_type'].map(edu_type_mapping)\n",
        "\n",
        "train['family_type'] = label_encoder.fit_transform(train['family_type'])\n",
        "test['family_type'] = label_encoder.transform(test['family_type'])\n",
        "\n",
        "train['house_type'] = label_encoder.fit_transform(train['house_type'])\n",
        "test['house_type'] = label_encoder.transform(test['house_type'])"
      ]
    },
    {
      "cell_type": "code",
      "execution_count": 20,
      "id": "d4850c02",
      "metadata": {
        "colab": {
          "base_uri": "https://localhost:8080/",
          "height": 206
        },
        "id": "d4850c02",
        "outputId": "69e3fae3-1397-4859-9e60-dafbc132b6b1"
      },
      "outputs": [
        {
          "output_type": "execute_result",
          "data": {
            "text/plain": [
              "   gender  car  reality  income_total  income_type  edu_type  family_type  \\\n",
              "0       0    0        0      202500.0            0         3            1   \n",
              "1       0    0        1      247500.0            0         1            0   \n",
              "2       1    1        1      450000.0            4         3            1   \n",
              "3       0    0        1      202500.0            0         1            1   \n",
              "4       0    1        1      157500.0            2         3            1   \n",
              "\n",
              "   house_type  DAYS_BIRTH  DAYS_EMPLOYED  work_phone  phone  email  \\\n",
              "0           2   38.079452      12.901370           0      0      0   \n",
              "1           1   31.178082       4.219178           0      0      1   \n",
              "2           1   52.293151      12.147945           0      1      0   \n",
              "3           1   41.336986       5.731507           0      1      0   \n",
              "4           1   41.197260       5.767123           0      0      0   \n",
              "\n",
              "   family_size  begin_month  credit  \n",
              "0            2            6     1.0  \n",
              "1            3            5     1.0  \n",
              "2            2           22     2.0  \n",
              "3            2           37     0.0  \n",
              "4            2           26     2.0  "
            ],
            "text/html": [
              "\n",
              "  <div id=\"df-f75e17b7-3aba-4324-8b4b-d2b8e5cbab31\" class=\"colab-df-container\">\n",
              "    <div>\n",
              "<style scoped>\n",
              "    .dataframe tbody tr th:only-of-type {\n",
              "        vertical-align: middle;\n",
              "    }\n",
              "\n",
              "    .dataframe tbody tr th {\n",
              "        vertical-align: top;\n",
              "    }\n",
              "\n",
              "    .dataframe thead th {\n",
              "        text-align: right;\n",
              "    }\n",
              "</style>\n",
              "<table border=\"1\" class=\"dataframe\">\n",
              "  <thead>\n",
              "    <tr style=\"text-align: right;\">\n",
              "      <th></th>\n",
              "      <th>gender</th>\n",
              "      <th>car</th>\n",
              "      <th>reality</th>\n",
              "      <th>income_total</th>\n",
              "      <th>income_type</th>\n",
              "      <th>edu_type</th>\n",
              "      <th>family_type</th>\n",
              "      <th>house_type</th>\n",
              "      <th>DAYS_BIRTH</th>\n",
              "      <th>DAYS_EMPLOYED</th>\n",
              "      <th>work_phone</th>\n",
              "      <th>phone</th>\n",
              "      <th>email</th>\n",
              "      <th>family_size</th>\n",
              "      <th>begin_month</th>\n",
              "      <th>credit</th>\n",
              "    </tr>\n",
              "  </thead>\n",
              "  <tbody>\n",
              "    <tr>\n",
              "      <th>0</th>\n",
              "      <td>0</td>\n",
              "      <td>0</td>\n",
              "      <td>0</td>\n",
              "      <td>202500.0</td>\n",
              "      <td>0</td>\n",
              "      <td>3</td>\n",
              "      <td>1</td>\n",
              "      <td>2</td>\n",
              "      <td>38.079452</td>\n",
              "      <td>12.901370</td>\n",
              "      <td>0</td>\n",
              "      <td>0</td>\n",
              "      <td>0</td>\n",
              "      <td>2</td>\n",
              "      <td>6</td>\n",
              "      <td>1.0</td>\n",
              "    </tr>\n",
              "    <tr>\n",
              "      <th>1</th>\n",
              "      <td>0</td>\n",
              "      <td>0</td>\n",
              "      <td>1</td>\n",
              "      <td>247500.0</td>\n",
              "      <td>0</td>\n",
              "      <td>1</td>\n",
              "      <td>0</td>\n",
              "      <td>1</td>\n",
              "      <td>31.178082</td>\n",
              "      <td>4.219178</td>\n",
              "      <td>0</td>\n",
              "      <td>0</td>\n",
              "      <td>1</td>\n",
              "      <td>3</td>\n",
              "      <td>5</td>\n",
              "      <td>1.0</td>\n",
              "    </tr>\n",
              "    <tr>\n",
              "      <th>2</th>\n",
              "      <td>1</td>\n",
              "      <td>1</td>\n",
              "      <td>1</td>\n",
              "      <td>450000.0</td>\n",
              "      <td>4</td>\n",
              "      <td>3</td>\n",
              "      <td>1</td>\n",
              "      <td>1</td>\n",
              "      <td>52.293151</td>\n",
              "      <td>12.147945</td>\n",
              "      <td>0</td>\n",
              "      <td>1</td>\n",
              "      <td>0</td>\n",
              "      <td>2</td>\n",
              "      <td>22</td>\n",
              "      <td>2.0</td>\n",
              "    </tr>\n",
              "    <tr>\n",
              "      <th>3</th>\n",
              "      <td>0</td>\n",
              "      <td>0</td>\n",
              "      <td>1</td>\n",
              "      <td>202500.0</td>\n",
              "      <td>0</td>\n",
              "      <td>1</td>\n",
              "      <td>1</td>\n",
              "      <td>1</td>\n",
              "      <td>41.336986</td>\n",
              "      <td>5.731507</td>\n",
              "      <td>0</td>\n",
              "      <td>1</td>\n",
              "      <td>0</td>\n",
              "      <td>2</td>\n",
              "      <td>37</td>\n",
              "      <td>0.0</td>\n",
              "    </tr>\n",
              "    <tr>\n",
              "      <th>4</th>\n",
              "      <td>0</td>\n",
              "      <td>1</td>\n",
              "      <td>1</td>\n",
              "      <td>157500.0</td>\n",
              "      <td>2</td>\n",
              "      <td>3</td>\n",
              "      <td>1</td>\n",
              "      <td>1</td>\n",
              "      <td>41.197260</td>\n",
              "      <td>5.767123</td>\n",
              "      <td>0</td>\n",
              "      <td>0</td>\n",
              "      <td>0</td>\n",
              "      <td>2</td>\n",
              "      <td>26</td>\n",
              "      <td>2.0</td>\n",
              "    </tr>\n",
              "  </tbody>\n",
              "</table>\n",
              "</div>\n",
              "    <div class=\"colab-df-buttons\">\n",
              "\n",
              "  <div class=\"colab-df-container\">\n",
              "    <button class=\"colab-df-convert\" onclick=\"convertToInteractive('df-f75e17b7-3aba-4324-8b4b-d2b8e5cbab31')\"\n",
              "            title=\"Convert this dataframe to an interactive table.\"\n",
              "            style=\"display:none;\">\n",
              "\n",
              "  <svg xmlns=\"http://www.w3.org/2000/svg\" height=\"24px\" viewBox=\"0 -960 960 960\">\n",
              "    <path d=\"M120-120v-720h720v720H120Zm60-500h600v-160H180v160Zm220 220h160v-160H400v160Zm0 220h160v-160H400v160ZM180-400h160v-160H180v160Zm440 0h160v-160H620v160ZM180-180h160v-160H180v160Zm440 0h160v-160H620v160Z\"/>\n",
              "  </svg>\n",
              "    </button>\n",
              "\n",
              "  <style>\n",
              "    .colab-df-container {\n",
              "      display:flex;\n",
              "      gap: 12px;\n",
              "    }\n",
              "\n",
              "    .colab-df-convert {\n",
              "      background-color: #E8F0FE;\n",
              "      border: none;\n",
              "      border-radius: 50%;\n",
              "      cursor: pointer;\n",
              "      display: none;\n",
              "      fill: #1967D2;\n",
              "      height: 32px;\n",
              "      padding: 0 0 0 0;\n",
              "      width: 32px;\n",
              "    }\n",
              "\n",
              "    .colab-df-convert:hover {\n",
              "      background-color: #E2EBFA;\n",
              "      box-shadow: 0px 1px 2px rgba(60, 64, 67, 0.3), 0px 1px 3px 1px rgba(60, 64, 67, 0.15);\n",
              "      fill: #174EA6;\n",
              "    }\n",
              "\n",
              "    .colab-df-buttons div {\n",
              "      margin-bottom: 4px;\n",
              "    }\n",
              "\n",
              "    [theme=dark] .colab-df-convert {\n",
              "      background-color: #3B4455;\n",
              "      fill: #D2E3FC;\n",
              "    }\n",
              "\n",
              "    [theme=dark] .colab-df-convert:hover {\n",
              "      background-color: #434B5C;\n",
              "      box-shadow: 0px 1px 3px 1px rgba(0, 0, 0, 0.15);\n",
              "      filter: drop-shadow(0px 1px 2px rgba(0, 0, 0, 0.3));\n",
              "      fill: #FFFFFF;\n",
              "    }\n",
              "  </style>\n",
              "\n",
              "    <script>\n",
              "      const buttonEl =\n",
              "        document.querySelector('#df-f75e17b7-3aba-4324-8b4b-d2b8e5cbab31 button.colab-df-convert');\n",
              "      buttonEl.style.display =\n",
              "        google.colab.kernel.accessAllowed ? 'block' : 'none';\n",
              "\n",
              "      async function convertToInteractive(key) {\n",
              "        const element = document.querySelector('#df-f75e17b7-3aba-4324-8b4b-d2b8e5cbab31');\n",
              "        const dataTable =\n",
              "          await google.colab.kernel.invokeFunction('convertToInteractive',\n",
              "                                                    [key], {});\n",
              "        if (!dataTable) return;\n",
              "\n",
              "        const docLinkHtml = 'Like what you see? Visit the ' +\n",
              "          '<a target=\"_blank\" href=https://colab.research.google.com/notebooks/data_table.ipynb>data table notebook</a>'\n",
              "          + ' to learn more about interactive tables.';\n",
              "        element.innerHTML = '';\n",
              "        dataTable['output_type'] = 'display_data';\n",
              "        await google.colab.output.renderOutput(dataTable, element);\n",
              "        const docLink = document.createElement('div');\n",
              "        docLink.innerHTML = docLinkHtml;\n",
              "        element.appendChild(docLink);\n",
              "      }\n",
              "    </script>\n",
              "  </div>\n",
              "\n",
              "\n",
              "<div id=\"df-478b18d0-5b20-4663-80ca-6bb75454e769\">\n",
              "  <button class=\"colab-df-quickchart\" onclick=\"quickchart('df-478b18d0-5b20-4663-80ca-6bb75454e769')\"\n",
              "            title=\"Suggest charts\"\n",
              "            style=\"display:none;\">\n",
              "\n",
              "<svg xmlns=\"http://www.w3.org/2000/svg\" height=\"24px\"viewBox=\"0 0 24 24\"\n",
              "     width=\"24px\">\n",
              "    <g>\n",
              "        <path d=\"M19 3H5c-1.1 0-2 .9-2 2v14c0 1.1.9 2 2 2h14c1.1 0 2-.9 2-2V5c0-1.1-.9-2-2-2zM9 17H7v-7h2v7zm4 0h-2V7h2v10zm4 0h-2v-4h2v4z\"/>\n",
              "    </g>\n",
              "</svg>\n",
              "  </button>\n",
              "\n",
              "<style>\n",
              "  .colab-df-quickchart {\n",
              "      --bg-color: #E8F0FE;\n",
              "      --fill-color: #1967D2;\n",
              "      --hover-bg-color: #E2EBFA;\n",
              "      --hover-fill-color: #174EA6;\n",
              "      --disabled-fill-color: #AAA;\n",
              "      --disabled-bg-color: #DDD;\n",
              "  }\n",
              "\n",
              "  [theme=dark] .colab-df-quickchart {\n",
              "      --bg-color: #3B4455;\n",
              "      --fill-color: #D2E3FC;\n",
              "      --hover-bg-color: #434B5C;\n",
              "      --hover-fill-color: #FFFFFF;\n",
              "      --disabled-bg-color: #3B4455;\n",
              "      --disabled-fill-color: #666;\n",
              "  }\n",
              "\n",
              "  .colab-df-quickchart {\n",
              "    background-color: var(--bg-color);\n",
              "    border: none;\n",
              "    border-radius: 50%;\n",
              "    cursor: pointer;\n",
              "    display: none;\n",
              "    fill: var(--fill-color);\n",
              "    height: 32px;\n",
              "    padding: 0;\n",
              "    width: 32px;\n",
              "  }\n",
              "\n",
              "  .colab-df-quickchart:hover {\n",
              "    background-color: var(--hover-bg-color);\n",
              "    box-shadow: 0 1px 2px rgba(60, 64, 67, 0.3), 0 1px 3px 1px rgba(60, 64, 67, 0.15);\n",
              "    fill: var(--button-hover-fill-color);\n",
              "  }\n",
              "\n",
              "  .colab-df-quickchart-complete:disabled,\n",
              "  .colab-df-quickchart-complete:disabled:hover {\n",
              "    background-color: var(--disabled-bg-color);\n",
              "    fill: var(--disabled-fill-color);\n",
              "    box-shadow: none;\n",
              "  }\n",
              "\n",
              "  .colab-df-spinner {\n",
              "    border: 2px solid var(--fill-color);\n",
              "    border-color: transparent;\n",
              "    border-bottom-color: var(--fill-color);\n",
              "    animation:\n",
              "      spin 1s steps(1) infinite;\n",
              "  }\n",
              "\n",
              "  @keyframes spin {\n",
              "    0% {\n",
              "      border-color: transparent;\n",
              "      border-bottom-color: var(--fill-color);\n",
              "      border-left-color: var(--fill-color);\n",
              "    }\n",
              "    20% {\n",
              "      border-color: transparent;\n",
              "      border-left-color: var(--fill-color);\n",
              "      border-top-color: var(--fill-color);\n",
              "    }\n",
              "    30% {\n",
              "      border-color: transparent;\n",
              "      border-left-color: var(--fill-color);\n",
              "      border-top-color: var(--fill-color);\n",
              "      border-right-color: var(--fill-color);\n",
              "    }\n",
              "    40% {\n",
              "      border-color: transparent;\n",
              "      border-right-color: var(--fill-color);\n",
              "      border-top-color: var(--fill-color);\n",
              "    }\n",
              "    60% {\n",
              "      border-color: transparent;\n",
              "      border-right-color: var(--fill-color);\n",
              "    }\n",
              "    80% {\n",
              "      border-color: transparent;\n",
              "      border-right-color: var(--fill-color);\n",
              "      border-bottom-color: var(--fill-color);\n",
              "    }\n",
              "    90% {\n",
              "      border-color: transparent;\n",
              "      border-bottom-color: var(--fill-color);\n",
              "    }\n",
              "  }\n",
              "</style>\n",
              "\n",
              "  <script>\n",
              "    async function quickchart(key) {\n",
              "      const quickchartButtonEl =\n",
              "        document.querySelector('#' + key + ' button');\n",
              "      quickchartButtonEl.disabled = true;  // To prevent multiple clicks.\n",
              "      quickchartButtonEl.classList.add('colab-df-spinner');\n",
              "      try {\n",
              "        const charts = await google.colab.kernel.invokeFunction(\n",
              "            'suggestCharts', [key], {});\n",
              "      } catch (error) {\n",
              "        console.error('Error during call to suggestCharts:', error);\n",
              "      }\n",
              "      quickchartButtonEl.classList.remove('colab-df-spinner');\n",
              "      quickchartButtonEl.classList.add('colab-df-quickchart-complete');\n",
              "    }\n",
              "    (() => {\n",
              "      let quickchartButtonEl =\n",
              "        document.querySelector('#df-478b18d0-5b20-4663-80ca-6bb75454e769 button');\n",
              "      quickchartButtonEl.style.display =\n",
              "        google.colab.kernel.accessAllowed ? 'block' : 'none';\n",
              "    })();\n",
              "  </script>\n",
              "</div>\n",
              "\n",
              "    </div>\n",
              "  </div>\n"
            ],
            "application/vnd.google.colaboratory.intrinsic+json": {
              "type": "dataframe",
              "variable_name": "train",
              "summary": "{\n  \"name\": \"train\",\n  \"rows\": 26457,\n  \"fields\": [\n    {\n      \"column\": \"gender\",\n      \"properties\": {\n        \"dtype\": \"number\",\n        \"std\": 0,\n        \"min\": 0,\n        \"max\": 1,\n        \"num_unique_values\": 2,\n        \"samples\": [\n          1,\n          0\n        ],\n        \"semantic_type\": \"\",\n        \"description\": \"\"\n      }\n    },\n    {\n      \"column\": \"car\",\n      \"properties\": {\n        \"dtype\": \"number\",\n        \"std\": 0,\n        \"min\": 0,\n        \"max\": 1,\n        \"num_unique_values\": 2,\n        \"samples\": [\n          1,\n          0\n        ],\n        \"semantic_type\": \"\",\n        \"description\": \"\"\n      }\n    },\n    {\n      \"column\": \"reality\",\n      \"properties\": {\n        \"dtype\": \"number\",\n        \"std\": 0,\n        \"min\": 0,\n        \"max\": 1,\n        \"num_unique_values\": 2,\n        \"samples\": [\n          1,\n          0\n        ],\n        \"semantic_type\": \"\",\n        \"description\": \"\"\n      }\n    },\n    {\n      \"column\": \"income_total\",\n      \"properties\": {\n        \"dtype\": \"number\",\n        \"std\": 101878.36799515961,\n        \"min\": 27000.0,\n        \"max\": 1575000.0,\n        \"num_unique_values\": 249,\n        \"samples\": [\n          30150.0,\n          180000.0\n        ],\n        \"semantic_type\": \"\",\n        \"description\": \"\"\n      }\n    },\n    {\n      \"column\": \"income_type\",\n      \"properties\": {\n        \"dtype\": \"number\",\n        \"std\": 1,\n        \"min\": 0,\n        \"max\": 4,\n        \"num_unique_values\": 5,\n        \"samples\": [\n          4,\n          3\n        ],\n        \"semantic_type\": \"\",\n        \"description\": \"\"\n      }\n    },\n    {\n      \"column\": \"edu_type\",\n      \"properties\": {\n        \"dtype\": \"number\",\n        \"std\": 0,\n        \"min\": 0,\n        \"max\": 4,\n        \"num_unique_values\": 5,\n        \"samples\": [\n          1,\n          4\n        ],\n        \"semantic_type\": \"\",\n        \"description\": \"\"\n      }\n    },\n    {\n      \"column\": \"family_type\",\n      \"properties\": {\n        \"dtype\": \"number\",\n        \"std\": 0,\n        \"min\": 0,\n        \"max\": 4,\n        \"num_unique_values\": 5,\n        \"samples\": [\n          0,\n          4\n        ],\n        \"semantic_type\": \"\",\n        \"description\": \"\"\n      }\n    },\n    {\n      \"column\": \"house_type\",\n      \"properties\": {\n        \"dtype\": \"number\",\n        \"std\": 0,\n        \"min\": 0,\n        \"max\": 5,\n        \"num_unique_values\": 6,\n        \"samples\": [\n          2,\n          1\n        ],\n        \"semantic_type\": \"\",\n        \"description\": \"\"\n      }\n    },\n    {\n      \"column\": \"DAYS_BIRTH\",\n      \"properties\": {\n        \"dtype\": \"number\",\n        \"std\": 11.511202800139403,\n        \"min\": 21.10958904109589,\n        \"max\": 68.90958904109588,\n        \"num_unique_values\": 6621,\n        \"samples\": [\n          25.67945205479452,\n          48.66301369863014\n        ],\n        \"semantic_type\": \"\",\n        \"description\": \"\"\n      }\n    },\n    {\n      \"column\": \"DAYS_EMPLOYED\",\n      \"properties\": {\n        \"dtype\": \"number\",\n        \"std\": 6.493535698724761,\n        \"min\": 0.0,\n        \"max\": 43.04931506849315,\n        \"num_unique_values\": 3470,\n        \"samples\": [\n          14.054794520547945,\n          4.238356164383561\n        ],\n        \"semantic_type\": \"\",\n        \"description\": \"\"\n      }\n    },\n    {\n      \"column\": \"work_phone\",\n      \"properties\": {\n        \"dtype\": \"number\",\n        \"std\": 0,\n        \"min\": 0,\n        \"max\": 1,\n        \"num_unique_values\": 2,\n        \"samples\": [\n          1,\n          0\n        ],\n        \"semantic_type\": \"\",\n        \"description\": \"\"\n      }\n    },\n    {\n      \"column\": \"phone\",\n      \"properties\": {\n        \"dtype\": \"number\",\n        \"std\": 0,\n        \"min\": 0,\n        \"max\": 1,\n        \"num_unique_values\": 2,\n        \"samples\": [\n          1,\n          0\n        ],\n        \"semantic_type\": \"\",\n        \"description\": \"\"\n      }\n    },\n    {\n      \"column\": \"email\",\n      \"properties\": {\n        \"dtype\": \"number\",\n        \"std\": 0,\n        \"min\": 0,\n        \"max\": 1,\n        \"num_unique_values\": 2,\n        \"samples\": [\n          1,\n          0\n        ],\n        \"semantic_type\": \"\",\n        \"description\": \"\"\n      }\n    },\n    {\n      \"column\": \"family_size\",\n      \"properties\": {\n        \"dtype\": \"number\",\n        \"std\": 0,\n        \"min\": 1,\n        \"max\": 4,\n        \"num_unique_values\": 4,\n        \"samples\": [\n          3,\n          1\n        ],\n        \"semantic_type\": \"\",\n        \"description\": \"\"\n      }\n    },\n    {\n      \"column\": \"begin_month\",\n      \"properties\": {\n        \"dtype\": \"number\",\n        \"std\": 16,\n        \"min\": 0,\n        \"max\": 60,\n        \"num_unique_values\": 61,\n        \"samples\": [\n          6,\n          18\n        ],\n        \"semantic_type\": \"\",\n        \"description\": \"\"\n      }\n    },\n    {\n      \"column\": \"credit\",\n      \"properties\": {\n        \"dtype\": \"number\",\n        \"std\": 0.7022827610456255,\n        \"min\": 0.0,\n        \"max\": 2.0,\n        \"num_unique_values\": 3,\n        \"samples\": [\n          1.0,\n          2.0\n        ],\n        \"semantic_type\": \"\",\n        \"description\": \"\"\n      }\n    }\n  ]\n}"
            }
          },
          "metadata": {},
          "execution_count": 20
        }
      ],
      "source": [
        "train.head()"
      ]
    },
    {
      "cell_type": "markdown",
      "id": "5683fb31",
      "metadata": {
        "id": "5683fb31"
      },
      "source": [
        "# 원핫 인코딩일 경우(두번 인코딩하지 않게 주의)"
      ]
    },
    {
      "cell_type": "code",
      "execution_count": 21,
      "id": "c5043fc5",
      "metadata": {
        "id": "c5043fc5"
      },
      "outputs": [],
      "source": [
        "from sklearn.preprocessing import OneHotEncoder\n",
        "import pandas as pd\n",
        "\n",
        "encoder = OneHotEncoder(sparse_output=False)\n",
        "\n",
        "income_type_encoded = encoder.fit_transform(train[['income_type']])\n",
        "income_type_encoded_df = pd.DataFrame(income_type_encoded, columns=encoder.get_feature_names_out(['income_type']))\n",
        "train = pd.concat([train, income_type_encoded_df], axis=1).drop('income_type', axis=1)\n",
        "\n",
        "income_type_encoded_test = encoder.transform(test[['income_type']])\n",
        "income_type_encoded_test_df = pd.DataFrame(income_type_encoded_test, columns=encoder.get_feature_names_out(['income_type']))\n",
        "test = pd.concat([test, income_type_encoded_test_df], axis=1).drop('income_type', axis=1)\n",
        "\n",
        "encoder = OneHotEncoder(sparse_output=False)\n",
        "edu_type_encoded = encoder.fit_transform(train[['edu_type']])\n",
        "edu_type_encoded_df = pd.DataFrame(edu_type_encoded, columns=encoder.get_feature_names_out(['edu_type']))\n",
        "train = pd.concat([train, edu_type_encoded_df], axis=1).drop('edu_type', axis=1)\n",
        "\n",
        "edu_type_encoded_test = encoder.transform(test[['edu_type']])\n",
        "edu_type_encoded_test_df = pd.DataFrame(edu_type_encoded_test, columns=encoder.get_feature_names_out(['edu_type']))\n",
        "test = pd.concat([test, edu_type_encoded_test_df], axis=1).drop('edu_type', axis=1)\n",
        "\n",
        "encoder = OneHotEncoder(sparse_output=False)\n",
        "family_type_encoded = encoder.fit_transform(train[['family_type']])\n",
        "family_type_encoded_df = pd.DataFrame(family_type_encoded, columns=encoder.get_feature_names_out(['family_type']))\n",
        "train = pd.concat([train, family_type_encoded_df], axis=1).drop('family_type', axis=1)\n",
        "\n",
        "family_type_encoded_test = encoder.transform(test[['family_type']])\n",
        "family_type_encoded_test_df = pd.DataFrame(family_type_encoded_test, columns=encoder.get_feature_names_out(['family_type']))\n",
        "test = pd.concat([test, family_type_encoded_test_df], axis=1).drop('family_type', axis=1)\n",
        "\n",
        "encoder = OneHotEncoder(sparse_output=False)\n",
        "house_type_encoded = encoder.fit_transform(train[['house_type']])\n",
        "house_type_encoded_df = pd.DataFrame(house_type_encoded, columns=encoder.get_feature_names_out(['house_type']))\n",
        "train = pd.concat([train, house_type_encoded_df], axis=1).drop('house_type', axis=1)\n",
        "\n",
        "house_type_encoded_test = encoder.transform(test[['house_type']])\n",
        "house_type_encoded_test_df = pd.DataFrame(house_type_encoded_test, columns=encoder.get_feature_names_out(['house_type']))\n",
        "test = pd.concat([test, house_type_encoded_test_df], axis=1).drop('house_type', axis=1)"
      ]
    },
    {
      "cell_type": "code",
      "execution_count": 22,
      "id": "f221f993",
      "metadata": {
        "colab": {
          "base_uri": "https://localhost:8080/",
          "height": 256
        },
        "id": "f221f993",
        "outputId": "76a490b5-c708-4778-e962-637b370a1a93"
      },
      "outputs": [
        {
          "output_type": "execute_result",
          "data": {
            "text/plain": [
              "   gender  car  reality  income_total  DAYS_BIRTH  DAYS_EMPLOYED  work_phone  \\\n",
              "0       0    0        0      202500.0   38.079452      12.901370           0   \n",
              "1       0    0        1      247500.0   31.178082       4.219178           0   \n",
              "2       1    1        1      450000.0   52.293151      12.147945           0   \n",
              "3       0    0        1      202500.0   41.336986       5.731507           0   \n",
              "4       0    1        1      157500.0   41.197260       5.767123           0   \n",
              "\n",
              "   phone  email  family_size  ...  family_type_1  family_type_2  \\\n",
              "0      0      0            2  ...            1.0            0.0   \n",
              "1      0      1            3  ...            0.0            0.0   \n",
              "2      1      0            2  ...            1.0            0.0   \n",
              "3      1      0            2  ...            1.0            0.0   \n",
              "4      0      0            2  ...            1.0            0.0   \n",
              "\n",
              "   family_type_3  family_type_4  house_type_0  house_type_1  house_type_2  \\\n",
              "0            0.0            0.0           0.0           0.0           1.0   \n",
              "1            0.0            0.0           0.0           1.0           0.0   \n",
              "2            0.0            0.0           0.0           1.0           0.0   \n",
              "3            0.0            0.0           0.0           1.0           0.0   \n",
              "4            0.0            0.0           0.0           1.0           0.0   \n",
              "\n",
              "   house_type_3  house_type_4  house_type_5  \n",
              "0           0.0           0.0           0.0  \n",
              "1           0.0           0.0           0.0  \n",
              "2           0.0           0.0           0.0  \n",
              "3           0.0           0.0           0.0  \n",
              "4           0.0           0.0           0.0  \n",
              "\n",
              "[5 rows x 33 columns]"
            ],
            "text/html": [
              "\n",
              "  <div id=\"df-b0c33055-479a-4f58-b807-4872bb40cd1f\" class=\"colab-df-container\">\n",
              "    <div>\n",
              "<style scoped>\n",
              "    .dataframe tbody tr th:only-of-type {\n",
              "        vertical-align: middle;\n",
              "    }\n",
              "\n",
              "    .dataframe tbody tr th {\n",
              "        vertical-align: top;\n",
              "    }\n",
              "\n",
              "    .dataframe thead th {\n",
              "        text-align: right;\n",
              "    }\n",
              "</style>\n",
              "<table border=\"1\" class=\"dataframe\">\n",
              "  <thead>\n",
              "    <tr style=\"text-align: right;\">\n",
              "      <th></th>\n",
              "      <th>gender</th>\n",
              "      <th>car</th>\n",
              "      <th>reality</th>\n",
              "      <th>income_total</th>\n",
              "      <th>DAYS_BIRTH</th>\n",
              "      <th>DAYS_EMPLOYED</th>\n",
              "      <th>work_phone</th>\n",
              "      <th>phone</th>\n",
              "      <th>email</th>\n",
              "      <th>family_size</th>\n",
              "      <th>...</th>\n",
              "      <th>family_type_1</th>\n",
              "      <th>family_type_2</th>\n",
              "      <th>family_type_3</th>\n",
              "      <th>family_type_4</th>\n",
              "      <th>house_type_0</th>\n",
              "      <th>house_type_1</th>\n",
              "      <th>house_type_2</th>\n",
              "      <th>house_type_3</th>\n",
              "      <th>house_type_4</th>\n",
              "      <th>house_type_5</th>\n",
              "    </tr>\n",
              "  </thead>\n",
              "  <tbody>\n",
              "    <tr>\n",
              "      <th>0</th>\n",
              "      <td>0</td>\n",
              "      <td>0</td>\n",
              "      <td>0</td>\n",
              "      <td>202500.0</td>\n",
              "      <td>38.079452</td>\n",
              "      <td>12.901370</td>\n",
              "      <td>0</td>\n",
              "      <td>0</td>\n",
              "      <td>0</td>\n",
              "      <td>2</td>\n",
              "      <td>...</td>\n",
              "      <td>1.0</td>\n",
              "      <td>0.0</td>\n",
              "      <td>0.0</td>\n",
              "      <td>0.0</td>\n",
              "      <td>0.0</td>\n",
              "      <td>0.0</td>\n",
              "      <td>1.0</td>\n",
              "      <td>0.0</td>\n",
              "      <td>0.0</td>\n",
              "      <td>0.0</td>\n",
              "    </tr>\n",
              "    <tr>\n",
              "      <th>1</th>\n",
              "      <td>0</td>\n",
              "      <td>0</td>\n",
              "      <td>1</td>\n",
              "      <td>247500.0</td>\n",
              "      <td>31.178082</td>\n",
              "      <td>4.219178</td>\n",
              "      <td>0</td>\n",
              "      <td>0</td>\n",
              "      <td>1</td>\n",
              "      <td>3</td>\n",
              "      <td>...</td>\n",
              "      <td>0.0</td>\n",
              "      <td>0.0</td>\n",
              "      <td>0.0</td>\n",
              "      <td>0.0</td>\n",
              "      <td>0.0</td>\n",
              "      <td>1.0</td>\n",
              "      <td>0.0</td>\n",
              "      <td>0.0</td>\n",
              "      <td>0.0</td>\n",
              "      <td>0.0</td>\n",
              "    </tr>\n",
              "    <tr>\n",
              "      <th>2</th>\n",
              "      <td>1</td>\n",
              "      <td>1</td>\n",
              "      <td>1</td>\n",
              "      <td>450000.0</td>\n",
              "      <td>52.293151</td>\n",
              "      <td>12.147945</td>\n",
              "      <td>0</td>\n",
              "      <td>1</td>\n",
              "      <td>0</td>\n",
              "      <td>2</td>\n",
              "      <td>...</td>\n",
              "      <td>1.0</td>\n",
              "      <td>0.0</td>\n",
              "      <td>0.0</td>\n",
              "      <td>0.0</td>\n",
              "      <td>0.0</td>\n",
              "      <td>1.0</td>\n",
              "      <td>0.0</td>\n",
              "      <td>0.0</td>\n",
              "      <td>0.0</td>\n",
              "      <td>0.0</td>\n",
              "    </tr>\n",
              "    <tr>\n",
              "      <th>3</th>\n",
              "      <td>0</td>\n",
              "      <td>0</td>\n",
              "      <td>1</td>\n",
              "      <td>202500.0</td>\n",
              "      <td>41.336986</td>\n",
              "      <td>5.731507</td>\n",
              "      <td>0</td>\n",
              "      <td>1</td>\n",
              "      <td>0</td>\n",
              "      <td>2</td>\n",
              "      <td>...</td>\n",
              "      <td>1.0</td>\n",
              "      <td>0.0</td>\n",
              "      <td>0.0</td>\n",
              "      <td>0.0</td>\n",
              "      <td>0.0</td>\n",
              "      <td>1.0</td>\n",
              "      <td>0.0</td>\n",
              "      <td>0.0</td>\n",
              "      <td>0.0</td>\n",
              "      <td>0.0</td>\n",
              "    </tr>\n",
              "    <tr>\n",
              "      <th>4</th>\n",
              "      <td>0</td>\n",
              "      <td>1</td>\n",
              "      <td>1</td>\n",
              "      <td>157500.0</td>\n",
              "      <td>41.197260</td>\n",
              "      <td>5.767123</td>\n",
              "      <td>0</td>\n",
              "      <td>0</td>\n",
              "      <td>0</td>\n",
              "      <td>2</td>\n",
              "      <td>...</td>\n",
              "      <td>1.0</td>\n",
              "      <td>0.0</td>\n",
              "      <td>0.0</td>\n",
              "      <td>0.0</td>\n",
              "      <td>0.0</td>\n",
              "      <td>1.0</td>\n",
              "      <td>0.0</td>\n",
              "      <td>0.0</td>\n",
              "      <td>0.0</td>\n",
              "      <td>0.0</td>\n",
              "    </tr>\n",
              "  </tbody>\n",
              "</table>\n",
              "<p>5 rows × 33 columns</p>\n",
              "</div>\n",
              "    <div class=\"colab-df-buttons\">\n",
              "\n",
              "  <div class=\"colab-df-container\">\n",
              "    <button class=\"colab-df-convert\" onclick=\"convertToInteractive('df-b0c33055-479a-4f58-b807-4872bb40cd1f')\"\n",
              "            title=\"Convert this dataframe to an interactive table.\"\n",
              "            style=\"display:none;\">\n",
              "\n",
              "  <svg xmlns=\"http://www.w3.org/2000/svg\" height=\"24px\" viewBox=\"0 -960 960 960\">\n",
              "    <path d=\"M120-120v-720h720v720H120Zm60-500h600v-160H180v160Zm220 220h160v-160H400v160Zm0 220h160v-160H400v160ZM180-400h160v-160H180v160Zm440 0h160v-160H620v160ZM180-180h160v-160H180v160Zm440 0h160v-160H620v160Z\"/>\n",
              "  </svg>\n",
              "    </button>\n",
              "\n",
              "  <style>\n",
              "    .colab-df-container {\n",
              "      display:flex;\n",
              "      gap: 12px;\n",
              "    }\n",
              "\n",
              "    .colab-df-convert {\n",
              "      background-color: #E8F0FE;\n",
              "      border: none;\n",
              "      border-radius: 50%;\n",
              "      cursor: pointer;\n",
              "      display: none;\n",
              "      fill: #1967D2;\n",
              "      height: 32px;\n",
              "      padding: 0 0 0 0;\n",
              "      width: 32px;\n",
              "    }\n",
              "\n",
              "    .colab-df-convert:hover {\n",
              "      background-color: #E2EBFA;\n",
              "      box-shadow: 0px 1px 2px rgba(60, 64, 67, 0.3), 0px 1px 3px 1px rgba(60, 64, 67, 0.15);\n",
              "      fill: #174EA6;\n",
              "    }\n",
              "\n",
              "    .colab-df-buttons div {\n",
              "      margin-bottom: 4px;\n",
              "    }\n",
              "\n",
              "    [theme=dark] .colab-df-convert {\n",
              "      background-color: #3B4455;\n",
              "      fill: #D2E3FC;\n",
              "    }\n",
              "\n",
              "    [theme=dark] .colab-df-convert:hover {\n",
              "      background-color: #434B5C;\n",
              "      box-shadow: 0px 1px 3px 1px rgba(0, 0, 0, 0.15);\n",
              "      filter: drop-shadow(0px 1px 2px rgba(0, 0, 0, 0.3));\n",
              "      fill: #FFFFFF;\n",
              "    }\n",
              "  </style>\n",
              "\n",
              "    <script>\n",
              "      const buttonEl =\n",
              "        document.querySelector('#df-b0c33055-479a-4f58-b807-4872bb40cd1f button.colab-df-convert');\n",
              "      buttonEl.style.display =\n",
              "        google.colab.kernel.accessAllowed ? 'block' : 'none';\n",
              "\n",
              "      async function convertToInteractive(key) {\n",
              "        const element = document.querySelector('#df-b0c33055-479a-4f58-b807-4872bb40cd1f');\n",
              "        const dataTable =\n",
              "          await google.colab.kernel.invokeFunction('convertToInteractive',\n",
              "                                                    [key], {});\n",
              "        if (!dataTable) return;\n",
              "\n",
              "        const docLinkHtml = 'Like what you see? Visit the ' +\n",
              "          '<a target=\"_blank\" href=https://colab.research.google.com/notebooks/data_table.ipynb>data table notebook</a>'\n",
              "          + ' to learn more about interactive tables.';\n",
              "        element.innerHTML = '';\n",
              "        dataTable['output_type'] = 'display_data';\n",
              "        await google.colab.output.renderOutput(dataTable, element);\n",
              "        const docLink = document.createElement('div');\n",
              "        docLink.innerHTML = docLinkHtml;\n",
              "        element.appendChild(docLink);\n",
              "      }\n",
              "    </script>\n",
              "  </div>\n",
              "\n",
              "\n",
              "<div id=\"df-24259361-5a26-4027-b5d6-567eaf0d60af\">\n",
              "  <button class=\"colab-df-quickchart\" onclick=\"quickchart('df-24259361-5a26-4027-b5d6-567eaf0d60af')\"\n",
              "            title=\"Suggest charts\"\n",
              "            style=\"display:none;\">\n",
              "\n",
              "<svg xmlns=\"http://www.w3.org/2000/svg\" height=\"24px\"viewBox=\"0 0 24 24\"\n",
              "     width=\"24px\">\n",
              "    <g>\n",
              "        <path d=\"M19 3H5c-1.1 0-2 .9-2 2v14c0 1.1.9 2 2 2h14c1.1 0 2-.9 2-2V5c0-1.1-.9-2-2-2zM9 17H7v-7h2v7zm4 0h-2V7h2v10zm4 0h-2v-4h2v4z\"/>\n",
              "    </g>\n",
              "</svg>\n",
              "  </button>\n",
              "\n",
              "<style>\n",
              "  .colab-df-quickchart {\n",
              "      --bg-color: #E8F0FE;\n",
              "      --fill-color: #1967D2;\n",
              "      --hover-bg-color: #E2EBFA;\n",
              "      --hover-fill-color: #174EA6;\n",
              "      --disabled-fill-color: #AAA;\n",
              "      --disabled-bg-color: #DDD;\n",
              "  }\n",
              "\n",
              "  [theme=dark] .colab-df-quickchart {\n",
              "      --bg-color: #3B4455;\n",
              "      --fill-color: #D2E3FC;\n",
              "      --hover-bg-color: #434B5C;\n",
              "      --hover-fill-color: #FFFFFF;\n",
              "      --disabled-bg-color: #3B4455;\n",
              "      --disabled-fill-color: #666;\n",
              "  }\n",
              "\n",
              "  .colab-df-quickchart {\n",
              "    background-color: var(--bg-color);\n",
              "    border: none;\n",
              "    border-radius: 50%;\n",
              "    cursor: pointer;\n",
              "    display: none;\n",
              "    fill: var(--fill-color);\n",
              "    height: 32px;\n",
              "    padding: 0;\n",
              "    width: 32px;\n",
              "  }\n",
              "\n",
              "  .colab-df-quickchart:hover {\n",
              "    background-color: var(--hover-bg-color);\n",
              "    box-shadow: 0 1px 2px rgba(60, 64, 67, 0.3), 0 1px 3px 1px rgba(60, 64, 67, 0.15);\n",
              "    fill: var(--button-hover-fill-color);\n",
              "  }\n",
              "\n",
              "  .colab-df-quickchart-complete:disabled,\n",
              "  .colab-df-quickchart-complete:disabled:hover {\n",
              "    background-color: var(--disabled-bg-color);\n",
              "    fill: var(--disabled-fill-color);\n",
              "    box-shadow: none;\n",
              "  }\n",
              "\n",
              "  .colab-df-spinner {\n",
              "    border: 2px solid var(--fill-color);\n",
              "    border-color: transparent;\n",
              "    border-bottom-color: var(--fill-color);\n",
              "    animation:\n",
              "      spin 1s steps(1) infinite;\n",
              "  }\n",
              "\n",
              "  @keyframes spin {\n",
              "    0% {\n",
              "      border-color: transparent;\n",
              "      border-bottom-color: var(--fill-color);\n",
              "      border-left-color: var(--fill-color);\n",
              "    }\n",
              "    20% {\n",
              "      border-color: transparent;\n",
              "      border-left-color: var(--fill-color);\n",
              "      border-top-color: var(--fill-color);\n",
              "    }\n",
              "    30% {\n",
              "      border-color: transparent;\n",
              "      border-left-color: var(--fill-color);\n",
              "      border-top-color: var(--fill-color);\n",
              "      border-right-color: var(--fill-color);\n",
              "    }\n",
              "    40% {\n",
              "      border-color: transparent;\n",
              "      border-right-color: var(--fill-color);\n",
              "      border-top-color: var(--fill-color);\n",
              "    }\n",
              "    60% {\n",
              "      border-color: transparent;\n",
              "      border-right-color: var(--fill-color);\n",
              "    }\n",
              "    80% {\n",
              "      border-color: transparent;\n",
              "      border-right-color: var(--fill-color);\n",
              "      border-bottom-color: var(--fill-color);\n",
              "    }\n",
              "    90% {\n",
              "      border-color: transparent;\n",
              "      border-bottom-color: var(--fill-color);\n",
              "    }\n",
              "  }\n",
              "</style>\n",
              "\n",
              "  <script>\n",
              "    async function quickchart(key) {\n",
              "      const quickchartButtonEl =\n",
              "        document.querySelector('#' + key + ' button');\n",
              "      quickchartButtonEl.disabled = true;  // To prevent multiple clicks.\n",
              "      quickchartButtonEl.classList.add('colab-df-spinner');\n",
              "      try {\n",
              "        const charts = await google.colab.kernel.invokeFunction(\n",
              "            'suggestCharts', [key], {});\n",
              "      } catch (error) {\n",
              "        console.error('Error during call to suggestCharts:', error);\n",
              "      }\n",
              "      quickchartButtonEl.classList.remove('colab-df-spinner');\n",
              "      quickchartButtonEl.classList.add('colab-df-quickchart-complete');\n",
              "    }\n",
              "    (() => {\n",
              "      let quickchartButtonEl =\n",
              "        document.querySelector('#df-24259361-5a26-4027-b5d6-567eaf0d60af button');\n",
              "      quickchartButtonEl.style.display =\n",
              "        google.colab.kernel.accessAllowed ? 'block' : 'none';\n",
              "    })();\n",
              "  </script>\n",
              "</div>\n",
              "\n",
              "    </div>\n",
              "  </div>\n"
            ],
            "application/vnd.google.colaboratory.intrinsic+json": {
              "type": "dataframe",
              "variable_name": "train"
            }
          },
          "metadata": {},
          "execution_count": 22
        }
      ],
      "source": [
        "train.head()"
      ]
    },
    {
      "cell_type": "markdown",
      "id": "cM9Z1aVcQr78",
      "metadata": {
        "id": "cM9Z1aVcQr78"
      },
      "source": [
        "#EDA"
      ]
    },
    {
      "cell_type": "code",
      "execution_count": 23,
      "id": "-Qq5eXeAQrgA",
      "metadata": {
        "colab": {
          "base_uri": "https://localhost:8080/",
          "height": 1000
        },
        "id": "-Qq5eXeAQrgA",
        "outputId": "be38fcf7-3cba-45e8-82a4-724192ac579e"
      },
      "outputs": [
        {
          "output_type": "display_data",
          "data": {
            "text/plain": [
              "<Figure size 1400x1800 with 6 Axes>"
            ],
            "image/png": "[encoded data removed]"
          },
          "metadata": {}
        }
      ],
      "source": [
        "sns.set(style=\"whitegrid\")\n",
        "\n",
        "fig, axes = plt.subplots(nrows=3, ncols=2, figsize=(14, 18))\n",
        "\n",
        "#총 수입 분포: 대부분의 고객이 연간 약 100,000에서 300,000 사이의 수입\n",
        "# 수입 분포는 오른쪽으로 긴 꼬리를 가지고 있어, 높은 수입을 보고하는 소수의 고객 존재\n",
        "sns.histplot(train['income_total'], bins=30, ax=axes[0, 0], kde=True, color='skyblue')\n",
        "axes[0, 0].set_title('Distribution of Total Income')\n",
        "\n",
        "# 나이 분포: 고객의 나이는 대략 20세에서 68세 사이에 분포\n",
        "# 특히 30대와 40대 초반에 많은 고객이 존재\n",
        "sns.histplot(train['DAYS_BIRTH'], bins=30, ax=axes[0, 1], kde=True, color='olive')\n",
        "axes[0, 1].set_title('Distribution of Age in Years')\n",
        "\n",
        "# 고용 연수 분포: 고용된 사람들의 고용 연수는 대부분 0년에서 20년 사이\n",
        "# 일부 고객은 40년 이상 고용 상태에 있기도 합니다.\n",
        "sns.histplot(train['DAYS_EMPLOYED'], bins=30, ax=axes[1, 0], kde=True, color='gold')\n",
        "axes[1, 0].set_title('Distribution of Employment Years (for employed)')\n",
        "\n",
        "# 성별 분포: 남성(1)보다 여성(0) 고객의 수가 더 많습니다.\n",
        "sns.countplot(x='gender', data=train, ax=axes[1, 1])\n",
        "axes[1, 1].set_title('Gender Distribution')\n",
        "\n",
        "# 차량 소유 분포: 차량을 소유하지 않은 고객이 소유한 고객보다 약간 많습니다.\n",
        "sns.countplot(x='car', data=train, ax=axes[2, 0])\n",
        "axes[2, 0].set_title('Car Ownership Distribution')\n",
        "\n",
        "# 부동산 소유 분포: 대다수의 고객이 부동산을 소유하고 있습니다.\n",
        "sns.countplot(x='reality', data=train, ax=axes[2, 1])\n",
        "axes[2, 1].set_title('Reality Ownership Distribution')\n",
        "\n",
        "plt.tight_layout()\n",
        "plt.show()"
      ]
    },
    {
      "cell_type": "markdown",
      "id": "rXaxHZK0faf4",
      "metadata": {
        "id": "rXaxHZK0faf4"
      },
      "source": [
        "# SVM"
      ]
    },
    {
      "cell_type": "code",
      "execution_count": 24,
      "id": "iIUGjeZ9T4p9",
      "metadata": {
        "colab": {
          "base_uri": "https://localhost:8080/"
        },
        "id": "iIUGjeZ9T4p9",
        "outputId": "be808b7e-bece-4111-c67d-ed085406acfe"
      },
      "outputs": [
        {
          "output_type": "stream",
          "name": "stdout",
          "text": [
            "Accuracy: 0.6436130007558579\n",
            "Classification Report:\n",
            "              precision    recall  f1-score   support\n",
            "\n",
            "         0.0       0.71      0.01      0.02       650\n",
            "         1.0       0.59      0.03      0.06      1262\n",
            "         2.0       0.64      0.99      0.78      3380\n",
            "\n",
            "    accuracy                           0.64      5292\n",
            "   macro avg       0.65      0.34      0.29      5292\n",
            "weighted avg       0.64      0.64      0.52      5292\n",
            "\n"
          ]
        }
      ],
      "source": [
        "# 특성과 타겟 분리\n",
        "X = train.drop('credit', axis=1)\n",
        "y = train['credit']\n",
        "\n",
        "# 데이터 스케일링\n",
        "scaler = StandardScaler()\n",
        "X_scaled = scaler.fit_transform(X)\n",
        "\n",
        "# 데이터 분할\n",
        "X_train, X_test, y_train, y_test = train_test_split(X_scaled, y, test_size=0.2, random_state=42)\n",
        "\n",
        "# SVM 모델 초기화 및 훈련 (RBF 커널)\n",
        "svm_model = SVC(kernel='rbf', random_state=42)\n",
        "svm_model.fit(X_train, y_train)\n",
        "\n",
        "# 예측 및 성능 평가\n",
        "y_pred = svm_model.predict(X_test)\n",
        "accuracy = accuracy_score(y_test, y_pred)\n",
        "report = classification_report(y_test, y_pred)\n",
        "\n",
        "# 결과 출력\n",
        "print(f\"Accuracy: {accuracy}\")\n",
        "print(\"Classification Report:\")\n",
        "print(report)"
      ]
    },
    {
      "cell_type": "code",
      "execution_count": 25,
      "id": "s6H5s00hjar6",
      "metadata": {
        "colab": {
          "base_uri": "https://localhost:8080/"
        },
        "id": "s6H5s00hjar6",
        "outputId": "f42fb63e-b7b4-4dd5-b759-2af547ce1e8b"
      },
      "outputs": [
        {
          "output_type": "stream",
          "name": "stdout",
          "text": [
            "Requirement already satisfied: imbalanced-learn in /usr/local/lib/python3.10/dist-packages (0.10.1)\n",
            "Requirement already satisfied: numpy>=1.17.3 in /usr/local/lib/python3.10/dist-packages (from imbalanced-learn) (1.25.2)\n",
            "Requirement already satisfied: scipy>=1.3.2 in /usr/local/lib/python3.10/dist-packages (from imbalanced-learn) (1.11.4)\n",
            "Requirement already satisfied: scikit-learn>=1.0.2 in /usr/local/lib/python3.10/dist-packages (from imbalanced-learn) (1.2.2)\n",
            "Requirement already satisfied: joblib>=1.1.1 in /usr/local/lib/python3.10/dist-packages (from imbalanced-learn) (1.4.2)\n",
            "Requirement already satisfied: threadpoolctl>=2.0.0 in /usr/local/lib/python3.10/dist-packages (from imbalanced-learn) (3.5.0)\n"
          ]
        }
      ],
      "source": [
        "!pip install imbalanced-learn"
      ]
    },
    {
      "cell_type": "code",
      "execution_count": 26,
      "id": "u3TK3T7Hjfcv",
      "metadata": {
        "colab": {
          "base_uri": "https://localhost:8080/"
        },
        "id": "u3TK3T7Hjfcv",
        "outputId": "42d9f164-34a8-447a-f9ec-9f1b75c2b246"
      },
      "outputs": [
        {
          "output_type": "stream",
          "name": "stdout",
          "text": [
            "Accuracy: 0.4595616024187453\n",
            "Classification Report:\n",
            "              precision    recall  f1-score   support\n",
            "\n",
            "         0.0       0.17      0.38      0.23       650\n",
            "         1.0       0.36      0.43      0.39      1262\n",
            "         2.0       0.72      0.49      0.58      3380\n",
            "\n",
            "    accuracy                           0.46      5292\n",
            "   macro avg       0.41      0.43      0.40      5292\n",
            "weighted avg       0.56      0.46      0.49      5292\n",
            "\n"
          ]
        }
      ],
      "source": [
        "from imblearn.under_sampling import RandomUnderSampler\n",
        "\n",
        "# 언더샘플링 적용\n",
        "rus = RandomUnderSampler(random_state=42)\n",
        "X_resampled, y_resampled = rus.fit_resample(X_train, y_train)\n",
        "\n",
        "# SVM 모델 초기화 및 훈련 (RBF 커널)\n",
        "svm_model = SVC(kernel='rbf', random_state=42)\n",
        "svm_model.fit(X_resampled, y_resampled)\n",
        "\n",
        "# 예측 및 성능 평가\n",
        "y_pred = svm_model.predict(X_test)\n",
        "accuracy = accuracy_score(y_test, y_pred)\n",
        "report = classification_report(y_test, y_pred)\n",
        "\n",
        "# 결과 출력\n",
        "print(f\"Accuracy: {accuracy}\")\n",
        "print(\"Classification Report:\")\n",
        "print(report)"
      ]
    },
    {
      "cell_type": "code",
      "execution_count": null,
      "id": "A2nFroCYlBrd",
      "metadata": {
        "id": "A2nFroCYlBrd"
      },
      "outputs": [],
      "source": [
        "from sklearn.metrics import log_loss, accuracy_score, classification_report\n",
        "from sklearn.calibration import CalibratedClassifierCV\n",
        "from imblearn.over_sampling import SMOTE\n",
        "\n",
        "smote = SMOTE(random_state=42)\n",
        "X_train_smote, y_train_smote = smote.fit_resample(X_train, y_train)\n",
        "\n",
        "# SVM 모델 훈련 (확률 추정을 위해 CalibratedClassifierCV 사용)\n",
        "svm = SVC(kernel='rbf', probability=True, random_state=42)\n",
        "calibrated_svm = CalibratedClassifierCV(svm, method='sigmoid', cv=5)\n",
        "calibrated_svm.fit(X_train_smote, y_train_smote)\n",
        "\n",
        "# 예측 및 확률 추정\n",
        "y_pred = calibrated_svm.predict(X_test)\n",
        "y_proba = calibrated_svm.predict_proba(X_test)\n",
        "\n",
        "# 성능 평가\n",
        "accuracy = accuracy_score(y_test, y_pred)\n",
        "log_loss_val = log_loss(y_test, y_proba)\n",
        "report = classification_report(y_test, y_pred)\n",
        "\n",
        "# 결과 출력\n",
        "print(f\"Accuracy: {accuracy}\")\n",
        "print(f\"Log Loss: {log_loss_val}\")\n",
        "print(\"Classification Report:\")\n",
        "print(report)"
      ]
    },
    {
      "cell_type": "code",
      "execution_count": null,
      "id": "wa4KQOvcPHCy",
      "metadata": {
        "id": "wa4KQOvcPHCy"
      },
      "outputs": [],
      "source": [
        "import pandas as pd\n",
        "from sklearn.model_selection import train_test_split, cross_val_score, GridSearchCV\n",
        "from sklearn.svm import SVC\n",
        "from sklearn.metrics import accuracy_score\n",
        "\n",
        "\n",
        "# 훈련 데이터와 테스트 데이터 분리\n",
        "X = train.drop('credit', axis=1)\n",
        "y = train['credit']\n",
        "X_train, X_test, y_train, y_test = train_test_split(X, y, test_size=0.3, random_state=100)\n",
        "\n",
        "# SVM 모델 초기화 및 훈련 - 선형 커널\n",
        "svm_linear = SVC(kernel='linear', random_state=100)\n",
        "svm_linear.fit(X_train, y_train)\n",
        "\n",
        "# 예측 및 정확도 평가\n",
        "y_pred_linear = svm_linear.predict(X_test)\n",
        "accuracy_linear = accuracy_score(y_test, y_pred_linear)\n",
        "cross_val_scores_linear = cross_val_score(svm_linear, X, y, cv=5)\n",
        "\n",
        "# SVM 모델 초기화 및 훈련 - RBF 커널\n",
        "svm_rbf = SVC(kernel='rbf', random_state=100)\n",
        "svm_rbf.fit(X_train, y_train)\n",
        "\n",
        "# 예측 및 정확도 평가\n",
        "y_pred_rbf = svm_rbf.predict(X_test)\n",
        "accuracy_rbf = accuracy_score(y_test, y_pred_rbf)\n",
        "cross_val_scores_rbf = cross_val_score(svm_rbf, X, y, cv=5)\n",
        "\n",
        "# 하이퍼파라미터 튜닝 - GridSearchCV\n",
        "parameters = {'C': [0.1, 1, 10], 'gamma': [0.01, 0.1, 1]}\n",
        "grid_search = GridSearchCV(svm_rbf, parameters, cv=5)\n",
        "grid_search.fit(X_train, y_train)\n",
        "\n",
        "# 최적의 파라미터와 함께 훈련된 모델의 점수\n",
        "best_params = grid_search.best_params_\n",
        "best_score = grid_search.best_score_\n",
        "\n",
        "print(f\"Linear Model Accuracy: {accuracy_linear}, Cross-validation Score: {cross_val_scores_linear.mean()}\")\n",
        "print(f\"RBF Model Accuracy: {accuracy_rbf}, Cross-validation Score: {cross_val_scores_rbf.mean()}\")\n",
        "print(f\"Best Parameters: {best_params}, Best Cross-validation Score: {best_score}\")\n"
      ]
    },
    {
      "cell_type": "markdown",
      "id": "iQLix5LVnqnX",
      "metadata": {
        "id": "iQLix5LVnqnX"
      },
      "source": [
        "##Shapley value\n",
        "머신러닝에서는 모델 예측에 각 피처가 얼마나 중요한 역할을 하는지를 정량화하는 데 사용됩니다. 이 값은 각 피처가 결과에 미치는 기여도를 나타내며, 피처의 중요도를 이해하는 데 매우 유용합니다."
      ]
    },
    {
      "cell_type": "markdown",
      "id": "IZwjK6Brn13E",
      "metadata": {
        "id": "IZwjK6Brn13E"
      },
      "source": [
        "Shapley Value를 사용한 모델 설명\n",
        "Shapley Value는 모델의 예측에 대한 각 피처의 기여도를 평가하여, 모델의 작동 방식을 투명하게 만듭니다. 예를 들어, 신용 점수 예측 모델에서 어떤 피처가 신용 점수에 부정적 혹은 긍정적으로 영향을 미치는지 파악할 수 있습니다. 이 정보는 다음과 같은 통찰력을 제공할 수 있습니다:\n",
        "\n",
        "- 중요 피처 식별: 모델 예측에 가장 큰 영향을 미치는 피처들을 식별합니다.\n",
        "- 정책 결정 지원: 중요 피처들에 대한 인사이트를 바탕으로 효과적인 정책 결정을 도울 수 있습니다.\n",
        "- 데이터 수집 전략 개선: 중요도가 낮은 피처를 확인하고, 불필요한 데이터 수집을 줄일 수 있습니다."
      ]
    },
    {
      "cell_type": "code",
      "execution_count": null,
      "id": "gBRgpQQ0n0As",
      "metadata": {
        "id": "gBRgpQQ0n0As"
      },
      "outputs": [],
      "source": [
        "!pip install shap"
      ]
    },
    {
      "cell_type": "code",
      "execution_count": null,
      "id": "nRA-0p_xPH5g",
      "metadata": {
        "colab": {
          "background_save": true,
          "base_uri": "https://localhost:8080/"
        },
        "id": "nRA-0p_xPH5g",
        "outputId": "05904122-03f9-4e61-df17-875172d23f5a"
      },
      "outputs": [
        {
          "name": "stderr",
          "output_type": "stream",
          "text": [
            "PermutationExplainer explainer:  29%|██▉       | 1537/5292 [3:57:32<8:36:00,  8.25s/it]"
          ]
        }
      ],
      "source": [
        "import shap\n",
        "import pandas as pd\n",
        "from sklearn.model_selection import train_test_split\n",
        "from sklearn.preprocessing import StandardScaler\n",
        "from sklearn.svm import SVC\n",
        "from sklearn.pipeline import make_pipeline\n",
        "from sklearn.metrics import accuracy_score\n",
        "\n",
        "X = train.drop('credit', axis=1)\n",
        "y = train['credit']\n",
        "\n",
        "# 데이터 분할\n",
        "X_train, X_test, y_train, y_test = train_test_split(X, y, test_size=0.2, random_state=42)\n",
        "\n",
        "# SVM 모델과 파이프라인 생성\n",
        "model = make_pipeline(StandardScaler(), SVC(kernel='linear', probability=True))\n",
        "model.fit(X_train, y_train)\n",
        "\n",
        "# SHAP 값 계산\n",
        "explainer = shap.Explainer(model.predict, X_train)\n",
        "shap_values = explainer(X_test)\n",
        "\n",
        "# SHAP 요약 플롯\n",
        "shap.summary_plot(shap_values, X_test, plot_type=\"bar\")\n"
      ]
    },
    {
      "cell_type": "code",
      "execution_count": null,
      "id": "1tMUfCkRpOs0",
      "metadata": {
        "id": "1tMUfCkRpOs0"
      },
      "outputs": [],
      "source": [
        "credit_distribution = train['credit'].value_counts(normalize=True)\n",
        "\n",
        "#신용 등급별 통계 요약\n",
        "stat_by_credit = train.groupby('credit').agg(['mean', 'std', 'min', 'max'])\n",
        "\n",
        "credit_distribution, stat_by_credit"
      ]
    },
    {
      "cell_type": "code",
      "execution_count": null,
      "id": "neH_10k6Z2fR",
      "metadata": {
        "id": "neH_10k6Z2fR"
      },
      "outputs": [],
      "source": [
        "correlation_matrix = train.corr()\n",
        "credit_corr = correlation_matrix['credit'].sort_values()\n",
        "\n",
        "#신용등급별 상관분석\n",
        "plt.figure(figsize=(12, 8))\n",
        "sns.barplot(x=credit_corr.index, y=credit_corr.values)\n",
        "plt.title('Correlation of Variables with Credit Rating')\n",
        "plt.xticks(rotation=90, ha='right')\n",
        "plt.ylabel('Correlation Coefficient')\n",
        "plt.show()\n",
        "\n",
        "credit_corr"
      ]
    },
    {
      "cell_type": "code",
      "source": [],
      "metadata": {
        "id": "X_GpgHuKDG6J"
      },
      "id": "X_GpgHuKDG6J",
      "execution_count": null,
      "outputs": []
    }
  ],
  "metadata": {
    "colab": {
      "gpuType": "T4",
      "provenance": []
    },
    "kernelspec": {
      "display_name": "Python 3",
      "name": "python3"
    },
    "language_info": {
      "codemirror_mode": {
        "name": "ipython",
        "version": 3
      },
      "file_extension": ".py",
      "mimetype": "text/x-python",
      "name": "python",
      "nbconvert_exporter": "python",
      "pygments_lexer": "ipython3",
      "version": "3.11.3"
    }
  },
  "nbformat": 4,
  "nbformat_minor": 5
}